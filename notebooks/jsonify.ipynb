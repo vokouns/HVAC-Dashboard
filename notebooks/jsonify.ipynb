{
 "cells": [
  {
   "cell_type": "code",
   "execution_count": 1,
   "id": "03fba3e8-a681-4e7f-9242-4e23830f942f",
   "metadata": {},
   "outputs": [],
   "source": [
    "import pandas as pd\n",
    "\n",
    "# Load your CSV\n",
    "cust_df = pd.read_csv(\"fake_customers.csv\")\n",
    "calls_df = pd.read_csv(\"fake_service_calls.csv\")\n",
    "\n",
    "# Save to JSON\n",
    "cust_df.to_json(\"customers.json\", orient=\"records\", indent=2)\n",
    "calls_df.to_json(\"service_calls.json\", orient=\"records\", indent=2)"
   ]
  },
  {
   "cell_type": "code",
   "execution_count": null,
   "id": "6a0248d4-5f49-4d82-a10b-c332649c574c",
   "metadata": {},
   "outputs": [],
   "source": []
  }
 ],
 "metadata": {
  "kernelspec": {
   "display_name": "Python 3 (ipykernel)",
   "language": "python",
   "name": "python3"
  },
  "language_info": {
   "codemirror_mode": {
    "name": "ipython",
    "version": 3
   },
   "file_extension": ".py",
   "mimetype": "text/x-python",
   "name": "python",
   "nbconvert_exporter": "python",
   "pygments_lexer": "ipython3",
   "version": "3.11.7"
  }
 },
 "nbformat": 4,
 "nbformat_minor": 5
}
